{
 "cells": [
  {
   "cell_type": "markdown",
   "metadata": {},
   "source": [
    "<h1>Report</h1>\n",
    "\n",
    "Introduction where you discuss the business problem and who would be interested in this project.\n",
    "Data where you describe the data that will be used to solve the problem and the source of the data.\n",
    "Methodology section which represents the main component of the report where you discuss and describe any exploratory data analysis that you did, any inferential statistical testing that you performed, if any, and what machine learnings were used and why.\n",
    "Results section where you discuss the results.\n",
    "Discussion section where you discuss any observations you noted and any recommendations you can make based on the results.\n",
    "Conclusion section where you conclude the report."
   ]
  },
  {
   "cell_type": "markdown",
   "metadata": {},
   "source": [
    "<h2>Introduction</h2>"
   ]
  },
  {
   "cell_type": "markdown",
   "metadata": {},
   "source": [
    "<p>People are always moving to pursue a different path in their career. Sometimes they move from one city to another and sometimesfrom one country to another. When moving for your career, you have to take into account several factors, both about your personal circumstances and about the proposed city's particularities. In this problem, we care considering the case of a person with an IT degree who would like to work in one of the most exciting cities in the world, London. That person would like to work a start up company and therefore would like to move to that part of London where there are many startups. However, that person also has family commitments in terms of children who need to go to primary schools. To faciliate day to day activities, the person wants to live as close as possible to their place of work, but also in a area where there are primary schools which will make the school run much easier</p>"
   ]
  },
  {
   "cell_type": "markdown",
   "metadata": {},
   "source": [
    "<h2>Data</h2>"
   ]
  },
  {
   "cell_type": "markdown",
   "metadata": {},
   "source": [
    "<p> The data needed for this project are:\n",
    "    <ul>\n",
    "        <li>Foursquare location data for boroughs in London </li>\n",
    "    <li>The dataset will be supplemented by average rent which can be obtained from the <a url=' https://www.ons.gov.uk/peoplepopulationandcommunity/housing/adhocs/12435privaterentalmarketinlondonoctober2019toseptember2020'>City of London website</a> </li>\n",
    "    <li> Top Tech Start Ups in London will be obtained from <a url='https://www.heytempo.com/london-top-startups-to-work-for-in-2020/'> here</a> </li>\n",
    "        <li> The address of the start ups will be extracted from <a url='https://find-and-update.company-information.service.gov.uk/search?q=city+pantry'>here</a> </li>\n",
    "        </ul>\n",
    "\n",
    "All data from above sources will be used to create a dataset including all London boroughs, the number of start ups in the borough, the number of primary schools in the borough and the average rent for a two bed room flat.<p>"
   ]
  },
  {
   "cell_type": "markdown",
   "metadata": {},
   "source": [
    "<h2>Methodology</h2>"
   ]
  },
  {
   "cell_type": "markdown",
   "metadata": {},
   "source": [
    "<ol>\n",
    "<li>The data about the startups are extracted (through web scrapping) from the link given above. The names and description are extracted so that markers on the graph can have the description of the start up in order to be more informative</li>\n",
    "    <li> The names of the start ups are used to get their address from the Company's directory of the United Kingdom and the postcode is obtained</li>\n",
    "    <li>The postcode of each start up is used to get their latitude and longitude from <a url='http://api.getthedata.com/postcode/'>here</a> </li>\n",
    "    <li> The data is cleaned so that any start up that does not have an address or have missing details are dropped from the dataset</li>\n",
    "    <li>Using FourSquare, \"Primary Schools\" in a radius of 500m of each start ups are searched.However, this search returns many duplicate entries in case start ups are found close to each other or this search also returns other locations containing either the term 'primary' or the term 'school'.</li>\n",
    "    <li>The list of locations returned by FourSquare is cleaned, keeping only entries that contain the terms \"Primary School\"</li>\n",
    "    <li>The start ups and the Primary schools are plotted on the Map using Folium to allow the person to quicky identify in which areas of London they could potentially move in order to be closed to start ups and primary schools</li>\n",
    "    </ol>"
   ]
  },
  {
   "cell_type": "markdown",
   "metadata": {},
   "source": [
    "<h2>Results</h2>"
   ]
  },
  {
   "cell_type": "markdown",
   "metadata": {},
   "source": [
    "<p>The results show that the FourSquare API does not return many primary schools in the areas in London where there are start ups even though there are many schools in London</p>"
   ]
  },
  {
   "cell_type": "markdown",
   "metadata": {},
   "source": [
    "<h2>Discussion</h2>"
   ]
  },
  {
   "cell_type": "markdown",
   "metadata": {},
   "source": [
    "FourSquare APi works better with locations where there are many interest from the public, for example, restaurants."
   ]
  },
  {
   "cell_type": "markdown",
   "metadata": {},
   "source": [
    "<h2>Conclusion</h2>"
   ]
  },
  {
   "cell_type": "markdown",
   "metadata": {},
   "source": [
    "<p> In order to help in decision making, many different aspects can be plotted on the map depending on the person's personal circumstances </p>"
   ]
  },
  {
   "cell_type": "code",
   "execution_count": null,
   "metadata": {},
   "outputs": [],
   "source": []
  }
 ],
 "metadata": {
  "kernelspec": {
   "display_name": "Python",
   "language": "python",
   "name": "conda-env-python-py"
  },
  "language_info": {
   "codemirror_mode": {
    "name": "ipython",
    "version": 3
   },
   "file_extension": ".py",
   "mimetype": "text/x-python",
   "name": "python",
   "nbconvert_exporter": "python",
   "pygments_lexer": "ipython3",
   "version": "3.6.12"
  }
 },
 "nbformat": 4,
 "nbformat_minor": 4
}
